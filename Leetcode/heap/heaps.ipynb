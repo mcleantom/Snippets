{
 "cells": [
  {
   "cell_type": "markdown",
   "source": [
    "# Heaps\n",
    "Heaps are arrays where\n",
    "\n",
    "a[k] <= a[2*k+1] and a[k] <= a[2*k+2]\n",
    "\n",
    "For all K, counting elements from 0.\n",
    "\n",
    "The most useful property of heaps is that a[0] is always the smallest element.\n",
    "\n",
    "#### Min Heap\n",
    "```\n",
    "                                   0\n",
    "\n",
    "                  1                                 2\n",
    "\n",
    "          3               4                5               6\n",
    "\n",
    "      7       8       9       10      11      12      13      14\n",
    "\n",
    "    15 16   17 18   19 20   21 22   23 24   25 26   27 28   29 30\n",
    "```\n",
    "\n",
    "In a min-heap, the key at the root node is the minimum among the keys of all it's children. The same property is\n",
    "recursively true for all sub-trees in the binary tree."
   ],
   "metadata": {
    "collapsed": false,
    "pycharm": {
     "name": "#%% md\n"
    }
   }
  },
  {
   "cell_type": "code",
   "source": [
    "class MinHeap:\n",
    "\n",
    "    def __init__(self):\n",
    "        self.heap = [float(\"-inf\")]\n",
    "        self.FRONT = 1\n",
    "\n",
    "    @staticmethod\n",
    "    def parent(k):\n",
    "        return k // 2\n",
    "\n",
    "    @staticmethod\n",
    "    def left_child(k):\n",
    "        return k * 2\n",
    "\n",
    "    @staticmethod\n",
    "    def right_child(k):\n",
    "        return (2*k) + 1\n",
    "\n",
    "    def is_leaf(self, k):\n",
    "        return (k*2) > self.size\n",
    "\n",
    "    def swap(self, i, j):\n",
    "        self.heap[i], self.heap[j] = self.heap[j], self.heap[i]\n",
    "\n",
    "    def min_heapify(self, pos):\n",
    "        \"\"\"\n",
    "        If the node is not a leaf node and is greater than either of its children,\n",
    "        we need to re-order the heap.\n",
    "        \"\"\"\n",
    "        if not self.is_leaf(pos):\n",
    "            if (\n",
    "                self.heap[pos] > self.heap[self.left_child(pos)] or\n",
    "                self.heap[pos] > self.heap[self.right_child(pos)]\n",
    "            ):\n",
    "                if self.heap[self.left_child(pos)] < self.heap[self.right_child(pos)]:\n",
    "                    self.swap(pos, self.left_child(pos))\n",
    "                    self.min_heapify(self.left_child(pos))\n",
    "                else:\n",
    "                    self.swap(pos, self.right_child(pos))\n",
    "                    self.min_heapify(self.right_child(pos))\n",
    "\n",
    "    def insert(self, element):\n",
    "        self.heap.append(element)\n",
    "\n",
    "        current = self.size\n",
    "\n",
    "        # keep on pushing the element up the heap until it is greater than any of it's children\n",
    "        while self.heap[current] < self.heap[self.parent(current)]:\n",
    "            self.swap(current, self.parent(current))\n",
    "            current = self.parent(current)\n",
    "\n",
    "    def min_heap(self):\n",
    "        for i in range(self.size//2, 0, -1):\n",
    "            return self.min_heapify(i)\n",
    "\n",
    "    def pop_min(self):\n",
    "        popped = self.heap[self.FRONT]\n",
    "        self.heap[self.FRONT] = self.heap[self.size]\n",
    "        self.min_heapify(self.FRONT)\n",
    "        return popped\n",
    "\n",
    "    @property\n",
    "    def size(self):\n",
    "        return len(self.heap) - 1\n",
    "\n",
    "    def __repr__(self):\n",
    "        res = []\n",
    "        for i in range(1, (self.size//2)+1):\n",
    "            res.append(\" PARENT : \"+ str(self.heap[i])+\" LEFT CHILD : \"+\n",
    "                                str(self.heap[2 * i])+\" RIGHT CHILD : \"+\n",
    "                                str(self.heap[2 * i + 1]))\n",
    "        return '\\n'.join(res)"
   ],
   "metadata": {
    "collapsed": false,
    "pycharm": {
     "name": "#%%\n"
    }
   },
   "execution_count": 6,
   "outputs": []
  },
  {
   "cell_type": "code",
   "execution_count": 8,
   "outputs": [
    {
     "name": "stdout",
     "output_type": "stream",
     "text": [
      "The minHeap is \n",
      " PARENT : 3 LEFT CHILD : 5 RIGHT CHILD : 6\n",
      " PARENT : 5 LEFT CHILD : 9 RIGHT CHILD : 84\n",
      " PARENT : 6 LEFT CHILD : 19 RIGHT CHILD : 17\n",
      " PARENT : 9 LEFT CHILD : 22 RIGHT CHILD : 10\n",
      "The Min val is 3\n"
     ]
    }
   ],
   "source": [
    "print('The minHeap is ')\n",
    "minHeap = MinHeap()\n",
    "minHeap.insert(5)\n",
    "minHeap.insert(3)\n",
    "minHeap.insert(17)\n",
    "minHeap.insert(10)\n",
    "minHeap.insert(84)\n",
    "minHeap.insert(19)\n",
    "minHeap.insert(6)\n",
    "minHeap.insert(22)\n",
    "minHeap.insert(9)\n",
    "minHeap.min_heap()\n",
    "\n",
    "print(minHeap.__repr__())\n",
    "min_val = minHeap.pop_min()\n",
    "assert min_val == 3\n",
    "print(f\"The Min val is {min}\")"
   ],
   "metadata": {
    "collapsed": false,
    "pycharm": {
     "name": "#%%\n"
    }
   }
  }
 ],
 "metadata": {
  "kernelspec": {
   "display_name": "Python 3",
   "language": "python",
   "name": "python3"
  },
  "language_info": {
   "codemirror_mode": {
    "name": "ipython",
    "version": 2
   },
   "file_extension": ".py",
   "mimetype": "text/x-python",
   "name": "python",
   "nbconvert_exporter": "python",
   "pygments_lexer": "ipython2",
   "version": "2.7.6"
  }
 },
 "nbformat": 4,
 "nbformat_minor": 0
}